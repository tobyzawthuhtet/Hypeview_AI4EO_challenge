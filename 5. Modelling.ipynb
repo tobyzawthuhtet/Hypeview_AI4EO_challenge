{
 "cells": [
  {
   "cell_type": "code",
   "execution_count": 2,
   "id": "dbde7ce9",
   "metadata": {},
   "outputs": [],
   "source": [
    "import numpy as np\n",
    "import pandas as pd\n",
    "import os\n",
    "import matplotlib.pyplot as plt\n",
    "%matplotlib inline\n",
    "os.chdir(r'D:\\AI4EO challenge\\train_data\\train_data')"
   ]
  },
  {
   "cell_type": "code",
   "execution_count": 117,
   "id": "d82a1a4c",
   "metadata": {},
   "outputs": [
    {
     "data": {
      "text/html": [
       "<div>\n",
       "<style scoped>\n",
       "    .dataframe tbody tr th:only-of-type {\n",
       "        vertical-align: middle;\n",
       "    }\n",
       "\n",
       "    .dataframe tbody tr th {\n",
       "        vertical-align: top;\n",
       "    }\n",
       "\n",
       "    .dataframe thead th {\n",
       "        text-align: right;\n",
       "    }\n",
       "</style>\n",
       "<table border=\"1\" class=\"dataframe\">\n",
       "  <thead>\n",
       "    <tr style=\"text-align: right;\">\n",
       "      <th></th>\n",
       "      <th>Simple ratio (SR)</th>\n",
       "      <th>Salinity index (SI)</th>\n",
       "      <th>Salinity index 1 (SI1)</th>\n",
       "      <th>Salinity index 2 (SI2)</th>\n",
       "      <th>Salinity index 3 (SI3)</th>\n",
       "      <th>Salinity index 4 (SI4)</th>\n",
       "      <th>Intensity index 1 (Int1)</th>\n",
       "      <th>Intensity index 2 (Int2)</th>\n",
       "      <th>Ratio vegetation index (RVI)</th>\n",
       "      <th>Normalized difference salinity index (NDSI)</th>\n",
       "      <th>Normalized difference vegetation index (NDVI)</th>\n",
       "    </tr>\n",
       "  </thead>\n",
       "  <tbody>\n",
       "    <tr>\n",
       "      <th>0</th>\n",
       "      <td>-0.707529</td>\n",
       "      <td>550.605802</td>\n",
       "      <td>388.873841</td>\n",
       "      <td>557.048339</td>\n",
       "      <td>905.475255</td>\n",
       "      <td>556.714167</td>\n",
       "      <td>391.272409</td>\n",
       "      <td>748.327997</td>\n",
       "      <td>0.197363</td>\n",
       "      <td>-0.670337</td>\n",
       "      <td>0.086036</td>\n",
       "    </tr>\n",
       "    <tr>\n",
       "      <th>1</th>\n",
       "      <td>-0.695394</td>\n",
       "      <td>563.366210</td>\n",
       "      <td>389.004651</td>\n",
       "      <td>571.854658</td>\n",
       "      <td>925.140774</td>\n",
       "      <td>557.334359</td>\n",
       "      <td>391.558049</td>\n",
       "      <td>766.404685</td>\n",
       "      <td>0.199259</td>\n",
       "      <td>-0.667697</td>\n",
       "      <td>0.086211</td>\n",
       "    </tr>\n",
       "    <tr>\n",
       "      <th>2</th>\n",
       "      <td>-0.695207</td>\n",
       "      <td>567.961256</td>\n",
       "      <td>399.186740</td>\n",
       "      <td>574.003247</td>\n",
       "      <td>934.163576</td>\n",
       "      <td>572.128924</td>\n",
       "      <td>401.880459</td>\n",
       "      <td>779.034573</td>\n",
       "      <td>0.204348</td>\n",
       "      <td>-0.660650</td>\n",
       "      <td>0.091657</td>\n",
       "    </tr>\n",
       "    <tr>\n",
       "      <th>3</th>\n",
       "      <td>-0.688823</td>\n",
       "      <td>577.992751</td>\n",
       "      <td>399.636377</td>\n",
       "      <td>578.926008</td>\n",
       "      <td>945.381869</td>\n",
       "      <td>573.083809</td>\n",
       "      <td>402.443636</td>\n",
       "      <td>780.279379</td>\n",
       "      <td>0.209834</td>\n",
       "      <td>-0.653119</td>\n",
       "      <td>0.093624</td>\n",
       "    </tr>\n",
       "    <tr>\n",
       "      <th>4</th>\n",
       "      <td>-0.688427</td>\n",
       "      <td>580.593554</td>\n",
       "      <td>400.966077</td>\n",
       "      <td>582.492520</td>\n",
       "      <td>948.722550</td>\n",
       "      <td>573.442627</td>\n",
       "      <td>403.231954</td>\n",
       "      <td>788.246960</td>\n",
       "      <td>0.209962</td>\n",
       "      <td>-0.652945</td>\n",
       "      <td>0.094753</td>\n",
       "    </tr>\n",
       "  </tbody>\n",
       "</table>\n",
       "</div>"
      ],
      "text/plain": [
       "   Simple ratio (SR)  Salinity index (SI)  Salinity index 1 (SI1)  \\\n",
       "0          -0.707529           550.605802              388.873841   \n",
       "1          -0.695394           563.366210              389.004651   \n",
       "2          -0.695207           567.961256              399.186740   \n",
       "3          -0.688823           577.992751              399.636377   \n",
       "4          -0.688427           580.593554              400.966077   \n",
       "\n",
       "   Salinity index 2 (SI2)  Salinity index 3 (SI3)  Salinity index 4 (SI4)  \\\n",
       "0              557.048339              905.475255              556.714167   \n",
       "1              571.854658              925.140774              557.334359   \n",
       "2              574.003247              934.163576              572.128924   \n",
       "3              578.926008              945.381869              573.083809   \n",
       "4              582.492520              948.722550              573.442627   \n",
       "\n",
       "   Intensity index 1 (Int1)  Intensity index 2 (Int2)  \\\n",
       "0                391.272409                748.327997   \n",
       "1                391.558049                766.404685   \n",
       "2                401.880459                779.034573   \n",
       "3                402.443636                780.279379   \n",
       "4                403.231954                788.246960   \n",
       "\n",
       "   Ratio vegetation index (RVI)  Normalized difference salinity index (NDSI)  \\\n",
       "0                      0.197363                                    -0.670337   \n",
       "1                      0.199259                                    -0.667697   \n",
       "2                      0.204348                                    -0.660650   \n",
       "3                      0.209834                                    -0.653119   \n",
       "4                      0.209962                                    -0.652945   \n",
       "\n",
       "   Normalized difference vegetation index (NDVI)  \n",
       "0                                       0.086036  \n",
       "1                                       0.086211  \n",
       "2                                       0.091657  \n",
       "3                                       0.093624  \n",
       "4                                       0.094753  "
      ]
     },
     "execution_count": 117,
     "metadata": {},
     "output_type": "execute_result"
    }
   ],
   "source": [
    "X = pd.read_csv('Index - Copy.csv')\n",
    "X= X.drop(columns=['Unnamed: 0'])\n",
    "X.head()"
   ]
  },
  {
   "cell_type": "code",
   "execution_count": 118,
   "id": "e6b5e986",
   "metadata": {},
   "outputs": [],
   "source": [
    "# type(list(X.columns))"
   ]
  },
  {
   "cell_type": "code",
   "execution_count": 119,
   "id": "fe5c4c36",
   "metadata": {},
   "outputs": [],
   "source": [
    "# X = X.sort_values(by=['Simple ratio (SR)'],ascending=True)\n",
    "# X"
   ]
  },
  {
   "cell_type": "code",
   "execution_count": 122,
   "id": "b473cb0c",
   "metadata": {},
   "outputs": [
    {
     "data": {
      "text/html": [
       "<div>\n",
       "<style scoped>\n",
       "    .dataframe tbody tr th:only-of-type {\n",
       "        vertical-align: middle;\n",
       "    }\n",
       "\n",
       "    .dataframe tbody tr th {\n",
       "        vertical-align: top;\n",
       "    }\n",
       "\n",
       "    .dataframe thead th {\n",
       "        text-align: right;\n",
       "    }\n",
       "</style>\n",
       "<table border=\"1\" class=\"dataframe\">\n",
       "  <thead>\n",
       "    <tr style=\"text-align: right;\">\n",
       "      <th></th>\n",
       "      <th>P</th>\n",
       "      <th>K</th>\n",
       "      <th>Mg</th>\n",
       "      <th>pH</th>\n",
       "    </tr>\n",
       "  </thead>\n",
       "  <tbody>\n",
       "    <tr>\n",
       "      <th>0</th>\n",
       "      <td>20.3</td>\n",
       "      <td>21.1</td>\n",
       "      <td>26.8</td>\n",
       "      <td>5.60</td>\n",
       "    </tr>\n",
       "    <tr>\n",
       "      <th>1</th>\n",
       "      <td>22.9</td>\n",
       "      <td>109.0</td>\n",
       "      <td>54.6</td>\n",
       "      <td>5.73</td>\n",
       "    </tr>\n",
       "    <tr>\n",
       "      <th>2</th>\n",
       "      <td>23.1</td>\n",
       "      <td>113.0</td>\n",
       "      <td>56.8</td>\n",
       "      <td>5.80</td>\n",
       "    </tr>\n",
       "    <tr>\n",
       "      <th>3</th>\n",
       "      <td>23.4</td>\n",
       "      <td>113.0</td>\n",
       "      <td>57.1</td>\n",
       "      <td>5.90</td>\n",
       "    </tr>\n",
       "    <tr>\n",
       "      <th>4</th>\n",
       "      <td>23.6</td>\n",
       "      <td>116.0</td>\n",
       "      <td>61.1</td>\n",
       "      <td>5.90</td>\n",
       "    </tr>\n",
       "    <tr>\n",
       "      <th>...</th>\n",
       "      <td>...</td>\n",
       "      <td>...</td>\n",
       "      <td>...</td>\n",
       "      <td>...</td>\n",
       "    </tr>\n",
       "    <tr>\n",
       "      <th>1727</th>\n",
       "      <td>241.0</td>\n",
       "      <td>525.0</td>\n",
       "      <td>310.0</td>\n",
       "      <td>7.50</td>\n",
       "    </tr>\n",
       "    <tr>\n",
       "      <th>1728</th>\n",
       "      <td>245.0</td>\n",
       "      <td>536.0</td>\n",
       "      <td>328.0</td>\n",
       "      <td>7.50</td>\n",
       "    </tr>\n",
       "    <tr>\n",
       "      <th>1729</th>\n",
       "      <td>251.0</td>\n",
       "      <td>549.0</td>\n",
       "      <td>336.0</td>\n",
       "      <td>7.70</td>\n",
       "    </tr>\n",
       "    <tr>\n",
       "      <th>1730</th>\n",
       "      <td>254.0</td>\n",
       "      <td>562.0</td>\n",
       "      <td>357.0</td>\n",
       "      <td>7.70</td>\n",
       "    </tr>\n",
       "    <tr>\n",
       "      <th>1731</th>\n",
       "      <td>325.0</td>\n",
       "      <td>625.0</td>\n",
       "      <td>400.0</td>\n",
       "      <td>7.80</td>\n",
       "    </tr>\n",
       "  </tbody>\n",
       "</table>\n",
       "<p>1732 rows × 4 columns</p>\n",
       "</div>"
      ],
      "text/plain": [
       "          P      K     Mg    pH\n",
       "0      20.3   21.1   26.8  5.60\n",
       "1      22.9  109.0   54.6  5.73\n",
       "2      23.1  113.0   56.8  5.80\n",
       "3      23.4  113.0   57.1  5.90\n",
       "4      23.6  116.0   61.1  5.90\n",
       "...     ...    ...    ...   ...\n",
       "1727  241.0  525.0  310.0  7.50\n",
       "1728  245.0  536.0  328.0  7.50\n",
       "1729  251.0  549.0  336.0  7.70\n",
       "1730  254.0  562.0  357.0  7.70\n",
       "1731  325.0  625.0  400.0  7.80\n",
       "\n",
       "[1732 rows x 4 columns]"
      ]
     },
     "execution_count": 122,
     "metadata": {},
     "output_type": "execute_result"
    }
   ],
   "source": [
    "y = pd.read_csv('train_gt - Copy.csv')\n",
    "y = y.drop(columns=['sample_index'])\n",
    "# y = y.sort_values(by=['pH'],ascending=True)\n",
    "y"
   ]
  },
  {
   "cell_type": "markdown",
   "id": "bea4da32",
   "metadata": {},
   "source": [
    "# Partial Least Square Regression model is used "
   ]
  },
  {
   "cell_type": "code",
   "execution_count": 123,
   "id": "c9284fb2",
   "metadata": {},
   "outputs": [],
   "source": [
    "from sklearn.preprocessing import scale \n",
    "from sklearn import model_selection\n",
    "from sklearn.model_selection import RepeatedKFold\n",
    "from sklearn.model_selection import train_test_split\n",
    "# from sklearn.cross_decomposition import PLSRegression\n",
    "from sklearn.linear_model import LinearRegression\n",
    "from sklearn.metrics import mean_squared_error"
   ]
  },
  {
   "cell_type": "code",
   "execution_count": 124,
   "id": "b2a1a123",
   "metadata": {},
   "outputs": [],
   "source": [
    "#split the dataset into training (70%) and testing (30%) sets\n",
    "X_train,X_test,y_train,y_test = train_test_split(X,y,test_size=0.3,random_state=0) \n",
    "\n",
    "LR = LinearRegression()\n",
    "LR.fit(X_train,y_train)\n",
    "\n",
    "\n",
    "y_prediction = LR.predict(X_test)\n"
   ]
  },
  {
   "cell_type": "code",
   "execution_count": 125,
   "id": "1fa39d1a",
   "metadata": {},
   "outputs": [
    {
     "data": {
      "text/plain": [
       "(520, 4)"
      ]
     },
     "execution_count": 125,
     "metadata": {},
     "output_type": "execute_result"
    }
   ],
   "source": [
    "y_prediction.shape\n"
   ]
  },
  {
   "cell_type": "markdown",
   "id": "d6535eab",
   "metadata": {},
   "source": [
    "# Metrics on training data"
   ]
  },
  {
   "cell_type": "code",
   "execution_count": 126,
   "id": "6a2f222c",
   "metadata": {},
   "outputs": [
    {
     "name": "stdout",
     "output_type": "stream",
     "text": [
      "R Square value is == 0.9905354735953884\n",
      "mean_sqrd_error is == 5.982546151557558\n",
      "root_mean_squared error of is == 2.445924396124614\n"
     ]
    }
   ],
   "source": [
    "from sklearn.metrics import r2_score\n",
    "from sklearn.metrics import mean_squared_error\n",
    "\n",
    "score = r2_score(y_test,y_prediction)\n",
    "print(f\"R Square value is == {score}\")\n",
    "print('mean_sqrd_error is ==',mean_squared_error(y_test,y_prediction))\n",
    "print('root_mean_squared error of is ==',np.sqrt(mean_squared_error(y_test,y_prediction)))\n"
   ]
  },
  {
   "cell_type": "code",
   "execution_count": 133,
   "id": "85fb354c",
   "metadata": {},
   "outputs": [],
   "source": [
    "X_test = pd.read_csv('Index.csv')\n",
    "X_test= X_test.drop(columns=['Unnamed: 0'])\n",
    "# print(X_test.head())\n",
    "\n",
    "y_test = pd.read_csv('train_gt.csv')\n",
    "y_test = y_test.drop(columns=['sample_index'])\n",
    "# y = y.sort_values(by=['pH'],ascending=True)\n",
    "# print(y_test.head())\n",
    "\n",
    "\n"
   ]
  },
  {
   "cell_type": "code",
   "execution_count": 134,
   "id": "9bb8d916",
   "metadata": {},
   "outputs": [],
   "source": [
    "y_test_prediction = LR.predict(X_test)\n"
   ]
  },
  {
   "cell_type": "code",
   "execution_count": 135,
   "id": "e9985413",
   "metadata": {},
   "outputs": [
    {
     "name": "stdout",
     "output_type": "stream",
     "text": [
      "R Square value is == -1.6145137408334316\n",
      "mean_sqrd_error is == 4141.037959430094\n",
      "root_mean_squared error of is == 64.35089711441553\n"
     ]
    }
   ],
   "source": [
    "score = r2_score(y_test,y_test_prediction)\n",
    "print(f\"R Square value is == {score}\")\n",
    "print('mean_sqrd_error is ==',mean_squared_error(y_test,y_test_prediction))\n",
    "print('root_mean_squared error of is ==',np.sqrt(mean_squared_error(y_test,y_test_prediction)))"
   ]
  },
  {
   "cell_type": "code",
   "execution_count": null,
   "id": "29324db0",
   "metadata": {},
   "outputs": [],
   "source": []
  }
 ],
 "metadata": {
  "kernelspec": {
   "display_name": "Python 3",
   "language": "python",
   "name": "python3"
  },
  "language_info": {
   "codemirror_mode": {
    "name": "ipython",
    "version": 3
   },
   "file_extension": ".py",
   "mimetype": "text/x-python",
   "name": "python",
   "nbconvert_exporter": "python",
   "pygments_lexer": "ipython3",
   "version": "3.8.11"
  }
 },
 "nbformat": 4,
 "nbformat_minor": 5
}
